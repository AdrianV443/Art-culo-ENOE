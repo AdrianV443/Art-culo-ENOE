{
 "cells": [
  {
   "cell_type": "code",
   "execution_count": 1,
   "id": "5fbc81e6-b068-4bfe-90fe-c77ced9b7fb1",
   "metadata": {
    "tags": []
   },
   "outputs": [],
   "source": [
    "import pandas as pd\n",
    "import pyreadstat\n",
    "import numpy as np\n",
    "import warnings\n",
    "warnings.filterwarnings('ignore')"
   ]
  },
  {
   "cell_type": "code",
   "execution_count": 2,
   "id": "5ab62597-3303-4997-9c03-826550a1129f",
   "metadata": {},
   "outputs": [],
   "source": [
    "# Se leen los datos con el etiquedado provisto por INEGI\n",
    "carpeta = \"C:\\\\Users\\\\Usuario\\\\Desktop\\\\Artículo\\\\ENOE\\\\enoen nuevo\\\\\"\n",
    "# COE1\n",
    "coe1t422, meta = pyreadstat.read_dta(carpeta + \"ENOEN_COE1T422.dta\")\n",
    "# COE2\n",
    "coe2t422, meta = pyreadstat.read_dta(carpeta + \"ENOEN_COE2T422.dta\")\n",
    "# HOG\n",
    "hogt422, meta = pyreadstat.read_dta(carpeta + \"ENOEN_HOGT422.dta\")\n",
    "# SDEM\n",
    "sdemt422, meta = pyreadstat.read_dta(carpeta + \"ENOEN_SDEMT422.dta\")\n",
    "# VIV\n",
    "vivt422, meta = pyreadstat.read_dta(carpeta + \"ENOEN_VIVT422.dta\")"
   ]
  },
  {
   "cell_type": "code",
   "execution_count": 4,
   "id": "0ac0b465",
   "metadata": {
    "jupyter": {
     "source_hidden": true
    },
    "tags": []
   },
   "outputs": [],
   "source": [
    "# Corregir nombres de las categorías\n",
    "# duplicated_categories = ['Complemento urbano- Rural']\n",
    "\n",
    "# # Realiza las correcciones\n",
    "# for category in duplicated_categories:\n",
    "#     corrected_category = category.replace(' ', '')  # Elimina el espacio adicional\n",
    "#     vivt422['cd_a'] = vivt422['cd_a'].cat.rename_categories({category: corrected_category})"
   ]
  },
  {
   "cell_type": "code",
   "execution_count": 3,
   "id": "7e7e4132-d884-4beb-8f4c-60c9d4d4e57b",
   "metadata": {},
   "outputs": [],
   "source": [
    "# Seleccionando identificadores de acuerdo al INEGI\n",
    "idvivienda = ['cd_a','ent', 'con', \"v_sel\"]\n",
    "idhogar = ['cd_a','ent', 'con', \"v_sel\", \"n_hog\", \"h_mud\"]\n",
    "idpersona = [\"cd_a\",\"ent\", \"con\", \"v_sel\", \"n_hog\", \"h_mud\", \"n_ren\"]"
   ]
  },
  {
   "cell_type": "code",
   "execution_count": 4,
   "id": "7dea016d-07ca-4c79-829d-234a6184580a",
   "metadata": {},
   "outputs": [],
   "source": [
    "# Merge de tablas coet1 y coet2\n",
    "coet422 = pd.merge(coe1t422, coe2t422, on= idpersona)"
   ]
  },
  {
   "cell_type": "code",
   "execution_count": 5,
   "id": "afe00568-3be1-436d-b6f5-a539a5e17869",
   "metadata": {},
   "outputs": [
    {
     "data": {
      "text/plain": [
       "Index(['r_def', 'cd_a', 'ent', 'con', 'upm_x', 'd_sem_x', 'n_pro_viv_x',\n",
       "       'v_sel', 'n_hog', 'h_mud',\n",
       "       ...\n",
       "       'p9_h7', 'p9_m7', 'p9_8', 'p9_h8', 'p9_m8', 'ur_y', 'tipo_y',\n",
       "       'mes_cal_y', 'fac_tri_y', 'fac_men_y'],\n",
       "      dtype='object', length=247)"
      ]
     },
     "execution_count": 5,
     "metadata": {},
     "output_type": "execute_result"
    }
   ],
   "source": [
    "coet422.columns"
   ]
  },
  {
   "cell_type": "code",
   "execution_count": 7,
   "id": "9538b89b-e359-4f4a-a807-8e4beeef699a",
   "metadata": {},
   "outputs": [],
   "source": [
    "# Renombramos variables\n",
    "coet422 = coet422.rename(columns={'p1': 'p1coe', 'p3': 'p3coe'})"
   ]
  },
  {
   "cell_type": "code",
   "execution_count": 6,
   "id": "9f212885-82e5-4bbe-b1a6-fd5ff5f716ae",
   "metadata": {},
   "outputs": [
    {
     "name": "stdout",
     "output_type": "stream",
     "text": [
      "n_ent_y    1.0    2.0    3.0    4.0    5.0\n",
      "n_ent_x                                   \n",
      "1.0      65103      0      0      0      0\n",
      "2.0          0  64334      0      0      0\n",
      "3.0          0      0  65395      0      0\n",
      "4.0          0      0      0  64109      0\n",
      "5.0          0      0      0      0  63929\n"
     ]
    }
   ],
   "source": [
    "# Tabulado para revisar variables repetidas \n",
    "tabla = pd.crosstab(coet422['n_ent_x'], coet422['n_ent_y']) # 'n_ent' es el número de entrevista\n",
    "print(tabla)\n",
    "\n",
    "# coet422[['n_ent_x', 'n_ent_y']]"
   ]
  },
  {
   "cell_type": "code",
   "execution_count": 7,
   "id": "5ef85144-a3f6-4b95-8192-d348f7b93318",
   "metadata": {},
   "outputs": [
    {
     "name": "stdout",
     "output_type": "stream",
     "text": [
      "(322870, 235)\n"
     ]
    }
   ],
   "source": [
    "# Se eliminan las variables que son iguales devolviendo sus valores originales\n",
    "# Elimina columnas que terminan con \"_y\"\n",
    "columnas_eliminar = [col for col in coet422.columns if col.endswith('_y')]\n",
    "coet422 = coet422.drop(columns = columnas_eliminar)\n",
    "# Cambia nombres de columnas que terminan con \"_x\"\n",
    "coet422 = coet422.rename(columns={col: col.split('_')[0] for col in coet422.columns if col.endswith('_x')})\n",
    "print(coet422.shape)"
   ]
  },
  {
   "cell_type": "code",
   "execution_count": 8,
   "id": "f1b6cd6e-0e40-4e26-8ee4-88f7a854fd7e",
   "metadata": {},
   "outputs": [
    {
     "name": "stdout",
     "output_type": "stream",
     "text": [
      "(322870, 342)\n"
     ]
    }
   ],
   "source": [
    "# fusionar la información de personas mayores de 12 años del COE con el reporte del cuestionario sociodemográfico\n",
    "sdemcoet422 = pd.merge(sdemt422, coet422, on=idpersona)\n",
    "print(sdemcoet422.shape)"
   ]
  },
  {
   "cell_type": "code",
   "execution_count": 9,
   "id": "7da299e7-d9ad-4706-a6b5-3655134b32e5",
   "metadata": {},
   "outputs": [
    {
     "name": "stdout",
     "output_type": "stream",
     "text": [
      "(322870, 336)\n"
     ]
    }
   ],
   "source": [
    "# Limpieza de la repetición de variables\n",
    "# Elimina columnas que terminan con \"_y\"\n",
    "columnas_eliminar = [col for col in sdemcoet422.columns if col.endswith('_y')]\n",
    "sdemcoet422 = sdemcoet422.drop(columns = columnas_eliminar)\n",
    "# Cambia nombres de columnas que terminan con \"_x\"\n",
    "sdemcoet422 = sdemcoet422.rename(columns={col: col.split('_')[0] for col in sdemcoet422.columns if col.endswith('_x')})  \n",
    "print(sdemcoet422.shape)"
   ]
  },
  {
   "cell_type": "code",
   "execution_count": 10,
   "id": "b7d1fe19-a83f-42c9-becf-ec7f82e9b7e1",
   "metadata": {},
   "outputs": [
    {
     "name": "stdout",
     "output_type": "stream",
     "text": [
      "(133108, 57)\n"
     ]
    }
   ],
   "source": [
    "# fusionar la información de vivienda y hogar. A una vivienda pueden corresponder varios hogares\n",
    "vivhogt422 = pd.merge(vivt422, hogt422, on=idvivienda)\n",
    "print(vivhogt422.shape)"
   ]
  },
  {
   "cell_type": "code",
   "execution_count": 11,
   "id": "b389aef8-0df7-4494-8a33-4c98b6be6a77",
   "metadata": {},
   "outputs": [
    {
     "name": "stdout",
     "output_type": "stream",
     "text": [
      "(133108, 39)\n"
     ]
    }
   ],
   "source": [
    "# Limpieza de repetición de variables\n",
    "# Elimina columnas que terminan con \"_y\"\n",
    "columnas_eliminar = [col for col in vivhogt422.columns if col.endswith('_y')]\n",
    "vivhogt422 = vivhogt422.drop(columns = columnas_eliminar)\n",
    "# Cambia nombres de columnas que terminan con \"_x\"\n",
    "vivhogt422 = vivhogt422.rename(columns={col: col.split('_')[0] for col in vivhogt422.columns if col.endswith('_x')})  \n",
    "print(vivhogt422.shape)"
   ]
  },
  {
   "cell_type": "code",
   "execution_count": 12,
   "id": "04fa3d22-b0ea-4bbf-91f4-e3979fbd344e",
   "metadata": {},
   "outputs": [
    {
     "name": "stdout",
     "output_type": "stream",
     "text": [
      "(322870, 369)\n"
     ]
    }
   ],
   "source": [
    "completat422 = pd.merge(vivhogt422, sdemcoet422, on= idhogar)\n",
    "print(completat422.shape)"
   ]
  },
  {
   "cell_type": "code",
   "execution_count": 13,
   "id": "cf277f7a-2d94-470c-9895-f0bfebd2b080",
   "metadata": {},
   "outputs": [
    {
     "name": "stdout",
     "output_type": "stream",
     "text": [
      "(322870, 350)\n"
     ]
    }
   ],
   "source": [
    "# Elimina columnas que terminan con \"_y\"\n",
    "columnas_eliminar = [col for col in completat422.columns if col.endswith('_y')]\n",
    "completat422 = completat422.drop(columns = columnas_eliminar)\n",
    "# Cambia nombres de columnas que terminan con \"_x\"\n",
    "completat422 = completat422.rename(columns={col: col.split('_')[0] for col in completat422.columns if col.endswith('_x')})  \n",
    "print(completat422.shape)"
   ]
  },
  {
   "cell_type": "code",
   "execution_count": 14,
   "id": "c069e852-9146-459f-980c-ef70eccb99a2",
   "metadata": {},
   "outputs": [],
   "source": [
    "completat422 = completat422.drop(completat422[(completat422['r_def'] != 0) | (completat422['c_res'] == 2)].index)"
   ]
  },
  {
   "cell_type": "code",
   "execution_count": 15,
   "id": "e0ce7109",
   "metadata": {},
   "outputs": [
    {
     "name": "stdout",
     "output_type": "stream",
     "text": [
      "['est', 'est', 't', 'n', 'fac', 'p4', 'p4']\n"
     ]
    }
   ],
   "source": [
    "print(completat422.columns[completat422.columns.duplicated()].tolist())"
   ]
  },
  {
   "cell_type": "code",
   "execution_count": null,
   "id": "7e0e589c",
   "metadata": {},
   "outputs": [],
   "source": [
    "completat422['sex','niv_ins','t_loc_men',\n",
    "             'clase1','clase2','clase3',\n",
    "             'rama', 'c_ocu11c',\n",
    "             'ing7c','ingocup','ing_x_hrs',\n",
    "             'fac','est_d_men','upm'] = completat422['sex', 'eda','niv_ins', 't_loc_men',\n",
    "                                                     'clase1','clase2','clase3','rama', \n",
    "                                                     'c_ocu11c','ing7c','ingocup','ing_x_hrs',\n",
    "                                                     'fac','est_d_men','upm'].astype('category')\n"
   ]
  },
  {
   "cell_type": "code",
   "execution_count": 16,
   "id": "4e11002e-3018-4f1c-8ada-0d1585a4accc",
   "metadata": {
    "scrolled": true,
    "tags": []
   },
   "outputs": [
    {
     "data": {
      "text/plain": [
       "['loc',\n",
       " 'mun',\n",
       " 'est',\n",
       " 'est',\n",
       " 'est',\n",
       " 'ageb',\n",
       " 't',\n",
       " 't',\n",
       " 'cd_a',\n",
       " 'ent',\n",
       " 'con',\n",
       " 'upm',\n",
       " 'd',\n",
       " 'n',\n",
       " 'v_sel',\n",
       " 'n',\n",
       " 'per',\n",
       " 'p1',\n",
       " 'p2',\n",
       " 'p3',\n",
       " 'ur',\n",
       " 'tipo',\n",
       " 'mes',\n",
       " 'fac',\n",
       " 'fac',\n",
       " 'n_hog',\n",
       " 'h_mud',\n",
       " 'r_pre',\n",
       " 'p_dia',\n",
       " 'p_mes',\n",
       " 'p_anio',\n",
       " 'r_def',\n",
       " 'd_dia',\n",
       " 'd_mes',\n",
       " 'd_anio',\n",
       " 'e_obs',\n",
       " 'p4',\n",
       " 'p4',\n",
       " 'inf',\n",
       " 'r',\n",
       " 'est_d_tri',\n",
       " 'est_d_men',\n",
       " 't_loc_tri',\n",
       " 't_loc_men',\n",
       " 'd_sem',\n",
       " 'n_pro_viv',\n",
       " 'n_ent',\n",
       " 'n_ren',\n",
       " 'c_res',\n",
       " 'par_c',\n",
       " 'sex',\n",
       " 'eda',\n",
       " 'nac_dia',\n",
       " 'nac_mes',\n",
       " 'nac_anio',\n",
       " 'l_nac_c',\n",
       " 'cs_p12',\n",
       " 'cs_p13_1',\n",
       " 'cs_p13_2',\n",
       " 'cs_p14_c',\n",
       " 'cs_p15',\n",
       " 'cs_p16',\n",
       " 'cs_p17',\n",
       " 'n_hij',\n",
       " 'e_con',\n",
       " 'cs_p20a_1',\n",
       " 'cs_p20a_c',\n",
       " 'cs_p20b_1',\n",
       " 'cs_p20b_c',\n",
       " 'cs_p20c_1',\n",
       " 'cs_ad_mot',\n",
       " 'cs_p21_des',\n",
       " 'cs_ad_des',\n",
       " 'cs_nr_mot',\n",
       " 'cs_p23_des',\n",
       " 'cs_nr_ori',\n",
       " 'zona',\n",
       " 'salario',\n",
       " 'fac_tri',\n",
       " 'fac_men',\n",
       " 'clase1',\n",
       " 'clase2',\n",
       " 'clase3',\n",
       " 'pos_ocu',\n",
       " 'seg_soc',\n",
       " 'rama',\n",
       " 'c_ocu11c',\n",
       " 'ing7c',\n",
       " 'dur9c',\n",
       " 'emple7c',\n",
       " 'medica5c',\n",
       " 'buscar5c',\n",
       " 'rama_est1',\n",
       " 'rama_est2',\n",
       " 'dur_est',\n",
       " 'ambito1',\n",
       " 'ambito2',\n",
       " 'tue1',\n",
       " 'tue2',\n",
       " 'tue3',\n",
       " 'busqueda',\n",
       " 'd_ant_lab',\n",
       " 'd_cexp_est',\n",
       " 'dur_des',\n",
       " 'sub_o',\n",
       " 's_clasifi',\n",
       " 'remune2c',\n",
       " 'pre_asa',\n",
       " 'tip_con',\n",
       " 'dispo',\n",
       " 'nodispo',\n",
       " 'c_inac5c',\n",
       " 'pnea_est',\n",
       " 'niv_ins',\n",
       " 'eda5c',\n",
       " 'eda7c',\n",
       " 'eda12c',\n",
       " 'eda19c',\n",
       " 'hij5c',\n",
       " 'domestico',\n",
       " 'anios_esc',\n",
       " 'hrsocup',\n",
       " 'ingocup',\n",
       " 'ing_x_hrs',\n",
       " 'tpg_p8a',\n",
       " 'tcco',\n",
       " 'cp_anoc',\n",
       " 'imssissste',\n",
       " 'ma48me1sm',\n",
       " 'p14apoyos',\n",
       " 'scian',\n",
       " 't_tra',\n",
       " 'emp_ppal',\n",
       " 'tue_ppal',\n",
       " 'trans_ppal',\n",
       " 'mh_fil2',\n",
       " 'mh_col',\n",
       " 'sec_ins',\n",
       " 'mes_cal',\n",
       " 'p1a1',\n",
       " 'p1a2',\n",
       " 'p1a3',\n",
       " 'p1b',\n",
       " 'p1c',\n",
       " 'p1d',\n",
       " 'p1e',\n",
       " 'p2_1',\n",
       " 'p2_2',\n",
       " 'p2_3',\n",
       " 'p2_4',\n",
       " 'p2_9',\n",
       " 'p2a_dia',\n",
       " 'p2a_sem',\n",
       " 'p2a_mes',\n",
       " 'p2a_anio',\n",
       " 'p2b_dia',\n",
       " 'p2b_sem',\n",
       " 'p2b_mes',\n",
       " 'p2b_anio',\n",
       " 'p2b',\n",
       " 'p2c',\n",
       " 'p2d1',\n",
       " 'p2d2',\n",
       " 'p2d3',\n",
       " 'p2d4',\n",
       " 'p2d5',\n",
       " 'p2d6',\n",
       " 'p2d7',\n",
       " 'p2d8',\n",
       " 'p2d9',\n",
       " 'p2d10',\n",
       " 'p2d11',\n",
       " 'p2d99',\n",
       " 'p2e',\n",
       " 'p2f',\n",
       " 'p2g1',\n",
       " 'p2g2',\n",
       " 'p2h1',\n",
       " 'p2h2',\n",
       " 'p2h3',\n",
       " 'p2h4',\n",
       " 'p2h9',\n",
       " 'p2i',\n",
       " 'p2j',\n",
       " 'p2k_anio',\n",
       " 'p2k_mes',\n",
       " 'p2k',\n",
       " 'p3a',\n",
       " 'p3b',\n",
       " 'p3c1',\n",
       " 'p3c2',\n",
       " 'p3c3',\n",
       " 'p3c4',\n",
       " 'p3c9',\n",
       " 'p3d',\n",
       " 'p3e',\n",
       " 'p3f1',\n",
       " 'p3f2',\n",
       " 'p3g1_1',\n",
       " 'p3g1_2',\n",
       " 'p3g2_1',\n",
       " 'p3g2_2',\n",
       " 'p3g3_1',\n",
       " 'p3g3_2',\n",
       " 'p3g4_1',\n",
       " 'p3g4_2',\n",
       " 'p3g9',\n",
       " 'p3g_tot',\n",
       " 'p3h',\n",
       " 'p3i',\n",
       " 'p3j1',\n",
       " 'p3j2',\n",
       " 'p3k1',\n",
       " 'p3k2',\n",
       " 'p3k3',\n",
       " 'p3k4',\n",
       " 'p3k5',\n",
       " 'p3k9',\n",
       " 'p3l',\n",
       " 'p4',\n",
       " 'p4_3',\n",
       " 'p4a',\n",
       " 'p4a_1',\n",
       " 'p4b',\n",
       " 'p4c',\n",
       " 'p4d1',\n",
       " 'p4d2',\n",
       " 'p4d3',\n",
       " 'p4e',\n",
       " 'p4f',\n",
       " 'p4g',\n",
       " 'p4h',\n",
       " 'p4i',\n",
       " 'p4i_1',\n",
       " 'p5',\n",
       " 'p5a',\n",
       " 'p5b_hlu',\n",
       " 'p5b_mlu',\n",
       " 'p5b_hma',\n",
       " 'p5b_mma',\n",
       " 'p5b_hmi',\n",
       " 'p5b_mmi',\n",
       " 'p5b_hju',\n",
       " 'p5b_mju',\n",
       " 'p5b_hvi',\n",
       " 'p5b_mvi',\n",
       " 'p5b_hsa',\n",
       " 'p5b_msa',\n",
       " 'p5b_hdo',\n",
       " 'p5b_mdo',\n",
       " 'p5b_thrs',\n",
       " 'p5b_tdia',\n",
       " 'p5c',\n",
       " 'p5d1',\n",
       " 'p5d_hlu',\n",
       " 'p5d_mlu',\n",
       " 'p5d_hma',\n",
       " 'p5d_mma',\n",
       " 'p5d_hmi',\n",
       " 'p5d_mmi',\n",
       " 'p5d_hju',\n",
       " 'p5d_mju',\n",
       " 'p5d_hvi',\n",
       " 'p5d_mvi',\n",
       " 'p5d_hsa',\n",
       " 'p5d_msa',\n",
       " 'p5d_hdo',\n",
       " 'p5d_mdo',\n",
       " 'p5d_thrs',\n",
       " 'p5d_tdia',\n",
       " 'p5e',\n",
       " 'p5f1',\n",
       " 'p5f2',\n",
       " 'p5f3',\n",
       " 'p5f4',\n",
       " 'p5f5',\n",
       " 'p5f6',\n",
       " 'p5f7',\n",
       " 'p5f8',\n",
       " 'p5f9',\n",
       " 'p5f10',\n",
       " 'p5f11',\n",
       " 'p5f12',\n",
       " 'p5f13',\n",
       " 'p5f14',\n",
       " 'p5f15',\n",
       " 'p5f99',\n",
       " 'p6_1',\n",
       " 'p6_2',\n",
       " 'p6_3',\n",
       " 'p6_4',\n",
       " 'p6_5',\n",
       " 'p6_6',\n",
       " 'p6_7',\n",
       " 'p6_8',\n",
       " 'p6_9',\n",
       " 'p6_10',\n",
       " 'p6_99',\n",
       " 'p6a1',\n",
       " 'p6a2',\n",
       " 'p6a3',\n",
       " 'p6a4',\n",
       " 'p6a9',\n",
       " 'p6b1',\n",
       " 'p6b2',\n",
       " 'p6c',\n",
       " 'p6d',\n",
       " 'p6e',\n",
       " 'p6e_c',\n",
       " 'p6f',\n",
       " 'p6f_c',\n",
       " 'p6g',\n",
       " 'p6h',\n",
       " 'p6h_c',\n",
       " 'p6i',\n",
       " 'p6i_c',\n",
       " 'p7',\n",
       " 'p7a',\n",
       " 'p7b',\n",
       " 'p7c',\n",
       " 'p8_1',\n",
       " 'p8_2',\n",
       " 'p8_3',\n",
       " 'p8_4',\n",
       " 'p8_9',\n",
       " 'p8a',\n",
       " 'p9_1',\n",
       " 'p9_h1',\n",
       " 'p9_m1',\n",
       " 'p9_2',\n",
       " 'p9_h2',\n",
       " 'p9_m2',\n",
       " 'p9_3',\n",
       " 'p9_h3',\n",
       " 'p9_m3',\n",
       " 'p9_4',\n",
       " 'p9_h4',\n",
       " 'p9_m4',\n",
       " 'p9_5',\n",
       " 'p9_h5',\n",
       " 'p9_m5',\n",
       " 'p9_6',\n",
       " 'p9_h6',\n",
       " 'p9_m6',\n",
       " 'p9_7',\n",
       " 'p9_h7',\n",
       " 'p9_m7',\n",
       " 'p9_8',\n",
       " 'p9_h8',\n",
       " 'p9_m8']"
      ]
     },
     "execution_count": 16,
     "metadata": {},
     "output_type": "execute_result"
    }
   ],
   "source": [
    "cols = [col for col in completat422.columns]\n",
    "cols"
   ]
  },
  {
   "cell_type": "code",
   "execution_count": 32,
   "id": "38435f3b-f2d3-405e-ba01-ed4d861db16c",
   "metadata": {
    "tags": []
   },
   "outputs": [],
   "source": [
    "# completat422.to_csv(\"completat422.csv\", index = False)"
   ]
  },
  {
   "cell_type": "code",
   "execution_count": 17,
   "id": "dfaab99a-eaa5-48b4-aec2-145b2dd09db0",
   "metadata": {},
   "outputs": [],
   "source": [
    "completat422 = pd.read_csv(\"completat422.csv\")\n",
    "\n",
    "import seaborn as sns\n",
    "import matplotlib.pyplot as plt"
   ]
  },
  {
   "cell_type": "code",
   "execution_count": 34,
   "id": "b8933f92-03ce-472b-889d-e921091be2ad",
   "metadata": {},
   "outputs": [],
   "source": [
    "base_descrip = completat422[['sex', 'eda','niv_ins', 't_loc_men',\n",
    "                            'clase1','clase2','clase3',\n",
    "                            'rama', 'c_ocu11c',\n",
    "                            'ing7c','ingocup','ing_x_hrs',\n",
    "                            'fac','est_d_men','upm']]"
   ]
  },
  {
   "cell_type": "code",
   "execution_count": 37,
   "id": "dccebf4a",
   "metadata": {
    "tags": []
   },
   "outputs": [
    {
     "data": {
      "text/plain": [
       "Text(0.5, 1.0, 'Cantidad de Encuestados por Sexo')"
      ]
     },
     "execution_count": 37,
     "metadata": {},
     "output_type": "execute_result"
    },
    {
     "data": {
      "image/png": "[encoded data removed]",
      "text/plain": [
       "<Figure size 640x480 with 1 Axes>"
      ]
     },
     "metadata": {},
     "output_type": "display_data"
    }
   ],
   "source": [
    "sns.countplot(x='sex', data=base_descrip).set_xticklabels(['Hombre', 'Mujer'], rotation=0)\n",
    "plt.xlabel('Sexo')\n",
    "plt.ylabel('Total de encuestados')\n",
    "plt.title('Cantidad de Encuestados por Sexo')"
   ]
  },
  {
   "cell_type": "code",
   "execution_count": 49,
   "id": "83c9a3d1-4453-445d-99e5-c7faebf55cff",
   "metadata": {},
   "outputs": [
    {
     "data": {
      "text/html": [
       "<div>\n",
       "<style scoped>\n",
       "    .dataframe tbody tr th:only-of-type {\n",
       "        vertical-align: middle;\n",
       "    }\n",
       "\n",
       "    .dataframe tbody tr th {\n",
       "        vertical-align: top;\n",
       "    }\n",
       "\n",
       "    .dataframe thead th {\n",
       "        text-align: right;\n",
       "    }\n",
       "</style>\n",
       "<table border=\"1\" class=\"dataframe\">\n",
       "  <thead>\n",
       "    <tr style=\"text-align: right;\">\n",
       "      <th></th>\n",
       "      <th>niv_ins</th>\n",
       "      <th>n</th>\n",
       "      <th>percent</th>\n",
       "    </tr>\n",
       "  </thead>\n",
       "  <tbody>\n",
       "    <tr>\n",
       "      <th>0</th>\n",
       "      <td>1.0</td>\n",
       "      <td>33789</td>\n",
       "      <td>10.476170</td>\n",
       "    </tr>\n",
       "    <tr>\n",
       "      <th>1</th>\n",
       "      <td>2.0</td>\n",
       "      <td>63192</td>\n",
       "      <td>19.592475</td>\n",
       "    </tr>\n",
       "    <tr>\n",
       "      <th>2</th>\n",
       "      <td>3.0</td>\n",
       "      <td>102802</td>\n",
       "      <td>31.873427</td>\n",
       "    </tr>\n",
       "    <tr>\n",
       "      <th>3</th>\n",
       "      <td>4.0</td>\n",
       "      <td>122749</td>\n",
       "      <td>38.057929</td>\n",
       "    </tr>\n",
       "    <tr>\n",
       "      <th>4</th>\n",
       "      <td>Total</td>\n",
       "      <td>322532</td>\n",
       "      <td>100.000000</td>\n",
       "    </tr>\n",
       "  </tbody>\n",
       "</table>\n",
       "</div>"
      ],
      "text/plain": [
       "  niv_ins       n     percent\n",
       "0     1.0   33789   10.476170\n",
       "1     2.0   63192   19.592475\n",
       "2     3.0  102802   31.873427\n",
       "3     4.0  122749   38.057929\n",
       "4   Total  322532  100.000000"
      ]
     },
     "execution_count": 49,
     "metadata": {},
     "output_type": "execute_result"
    }
   ],
   "source": [
    "nivel_ins = base_descrip[base_descrip['niv_ins']!=5]\n",
    "total = nivel_ins['niv_ins'].count()\n",
    "\n",
    "tabla_educ_niv = nivel_ins[['niv_ins']].value_counts().reset_index()\n",
    "tabla_educ_niv.columns=['niv_ins','n']\n",
    "tabla_educ_niv['percent'] = (tabla_educ_niv['n']/total*100)\n",
    "fila_total = pd.DataFrame({'niv_ins': ['Total'], 'n': [total], 'percent': [100]})\n",
    "tabla_educ_niv = tabla_educ_niv.sort_values(by='niv_ins')\n",
    "nivel_educt = tabla_educ_niv.append(fila_total, ignore_index=True)\n",
    "nivel_educt"
   ]
  },
  {
   "cell_type": "code",
   "execution_count": null,
   "id": "af2f4b62",
   "metadata": {},
   "outputs": [
    {
     "data": {
      "text/plain": [
       "Text(0, 0.5, 'Encuestados')"
      ]
     },
     "execution_count": 51,
     "metadata": {},
     "output_type": "execute_result"
    },
    {
     "data": {
      "image/png": "[encoded data removed]",
      "text/plain": [
       "<Figure size 640x480 with 1 Axes>"
      ]
     },
     "metadata": {},
     "output_type": "display_data"
    }
   ],
   "source": [
    "niveles_educacion = [\"Primaria incompleta\",\"Primaria completa\",\"Secundaria completa\",\"Medio superior y superior\"]#,\"Total\"]\n",
    "sns.barplot(x='niv_ins',y=\"n\", data=nivel_educt[0:4]).set_xticklabels(niveles_educacion, rotation=45)\n",
    "plt.xlabel('Escolaridad')\n",
    "plt.ylabel('Encuestados')"
   ]
  },
  {
   "cell_type": "code",
   "execution_count": 25,
   "id": "a206b077",
   "metadata": {},
   "outputs": [
    {
     "data": {
      "text/html": [
       "<div>\n",
       "<style scoped>\n",
       "    .dataframe tbody tr th:only-of-type {\n",
       "        vertical-align: middle;\n",
       "    }\n",
       "\n",
       "    .dataframe tbody tr th {\n",
       "        vertical-align: top;\n",
       "    }\n",
       "\n",
       "    .dataframe thead th {\n",
       "        text-align: right;\n",
       "    }\n",
       "</style>\n",
       "<table border=\"1\" class=\"dataframe\">\n",
       "  <thead>\n",
       "    <tr style=\"text-align: right;\">\n",
       "      <th></th>\n",
       "      <th>Sexo</th>\n",
       "      <th>niv_ins</th>\n",
       "      <th>tamaño</th>\n",
       "    </tr>\n",
       "  </thead>\n",
       "  <tbody>\n",
       "    <tr>\n",
       "      <th>0</th>\n",
       "      <td>Mujer</td>\n",
       "      <td>4.0</td>\n",
       "      <td>62512</td>\n",
       "    </tr>\n",
       "    <tr>\n",
       "      <th>1</th>\n",
       "      <td>Hombre</td>\n",
       "      <td>4.0</td>\n",
       "      <td>60237</td>\n",
       "    </tr>\n",
       "    <tr>\n",
       "      <th>2</th>\n",
       "      <td>Mujer</td>\n",
       "      <td>3.0</td>\n",
       "      <td>55691</td>\n",
       "    </tr>\n",
       "    <tr>\n",
       "      <th>3</th>\n",
       "      <td>Hombre</td>\n",
       "      <td>3.0</td>\n",
       "      <td>47111</td>\n",
       "    </tr>\n",
       "    <tr>\n",
       "      <th>4</th>\n",
       "      <td>Mujer</td>\n",
       "      <td>2.0</td>\n",
       "      <td>33312</td>\n",
       "    </tr>\n",
       "    <tr>\n",
       "      <th>5</th>\n",
       "      <td>Hombre</td>\n",
       "      <td>2.0</td>\n",
       "      <td>29880</td>\n",
       "    </tr>\n",
       "    <tr>\n",
       "      <th>6</th>\n",
       "      <td>Mujer</td>\n",
       "      <td>1.0</td>\n",
       "      <td>18576</td>\n",
       "    </tr>\n",
       "    <tr>\n",
       "      <th>7</th>\n",
       "      <td>Hombre</td>\n",
       "      <td>1.0</td>\n",
       "      <td>15213</td>\n",
       "    </tr>\n",
       "  </tbody>\n",
       "</table>\n",
       "</div>"
      ],
      "text/plain": [
       "     Sexo  niv_ins  tamaño\n",
       "0   Mujer      4.0   62512\n",
       "1  Hombre      4.0   60237\n",
       "2   Mujer      3.0   55691\n",
       "3  Hombre      3.0   47111\n",
       "4   Mujer      2.0   33312\n",
       "5  Hombre      2.0   29880\n",
       "6   Mujer      1.0   18576\n",
       "7  Hombre      1.0   15213"
      ]
     },
     "execution_count": 25,
     "metadata": {},
     "output_type": "execute_result"
    }
   ],
   "source": [
    "tabla_sex_educ = nivel_ins[['sex','niv_ins']].value_counts().reset_index()\n",
    "tabla_sex_educ.columns=['Sexo','niv_ins','tamaño']\n",
    "tabla_by_sex = tabla_sex_educ[tabla_sex_educ['Sexo'].isin([1,2])]\n",
    "tabla_by_sex['Sexo'] = tabla_by_sex['Sexo'].apply(lambda x: 'Hombre' if x == 1 else 'Mujer')\n",
    "tabla_by_sex"
   ]
  },
  {
   "cell_type": "code",
   "execution_count": 26,
   "id": "507d535a",
   "metadata": {},
   "outputs": [
    {
     "data": {
      "text/plain": [
       "Text(0, 0.5, 'Encuestados')"
      ]
     },
     "execution_count": 26,
     "metadata": {},
     "output_type": "execute_result"
    },
    {
     "data": {
      "image/png": "[encoded data removed]",
      "text/plain": [
       "<Figure size 640x480 with 1 Axes>"
      ]
     },
     "metadata": {},
     "output_type": "display_data"
    }
   ],
   "source": [
    "niv_educ = [\"Primaria incompleta\",\"Primaria completa\",\"Secundaria completa\",\"Medio superior y superior\"]\n",
    "sns.barplot(data=tabla_by_sex, x='niv_ins',y=\"tamaño\",hue='Sexo' ).set_xticklabels(niv_educ, rotation=45)\n",
    "plt.xlabel('Nivel de Escolaridad')\n",
    "plt.ylabel('Encuestados')"
   ]
  },
  {
   "cell_type": "code",
   "execution_count": 27,
   "id": "d1d91dd8",
   "metadata": {},
   "outputs": [
    {
     "data": {
      "text/html": [
       "<div>\n",
       "<style scoped>\n",
       "    .dataframe tbody tr th:only-of-type {\n",
       "        vertical-align: middle;\n",
       "    }\n",
       "\n",
       "    .dataframe tbody tr th {\n",
       "        vertical-align: top;\n",
       "    }\n",
       "\n",
       "    .dataframe thead th {\n",
       "        text-align: right;\n",
       "    }\n",
       "</style>\n",
       "<table border=\"1\" class=\"dataframe\">\n",
       "  <thead>\n",
       "    <tr style=\"text-align: right;\">\n",
       "      <th></th>\n",
       "      <th>Educacion</th>\n",
       "      <th>Hombre</th>\n",
       "      <th>Mujer</th>\n",
       "      <th>Total</th>\n",
       "    </tr>\n",
       "  </thead>\n",
       "  <tbody>\n",
       "    <tr>\n",
       "      <th>0</th>\n",
       "      <td>Primaria incompleta</td>\n",
       "      <td>15213</td>\n",
       "      <td>18576</td>\n",
       "      <td>33789</td>\n",
       "    </tr>\n",
       "    <tr>\n",
       "      <th>1</th>\n",
       "      <td>Primaria completa</td>\n",
       "      <td>29880</td>\n",
       "      <td>33312</td>\n",
       "      <td>63192</td>\n",
       "    </tr>\n",
       "    <tr>\n",
       "      <th>2</th>\n",
       "      <td>Secundaria completa</td>\n",
       "      <td>47111</td>\n",
       "      <td>55691</td>\n",
       "      <td>102802</td>\n",
       "    </tr>\n",
       "    <tr>\n",
       "      <th>3</th>\n",
       "      <td>Medio superior y superior</td>\n",
       "      <td>60237</td>\n",
       "      <td>62512</td>\n",
       "      <td>122749</td>\n",
       "    </tr>\n",
       "    <tr>\n",
       "      <th>4</th>\n",
       "      <td>Total</td>\n",
       "      <td>152441</td>\n",
       "      <td>170091</td>\n",
       "      <td>322532</td>\n",
       "    </tr>\n",
       "  </tbody>\n",
       "</table>\n",
       "</div>"
      ],
      "text/plain": [
       "                   Educacion  Hombre   Mujer   Total\n",
       "0        Primaria incompleta   15213   18576   33789\n",
       "1          Primaria completa   29880   33312   63192\n",
       "2        Secundaria completa   47111   55691  102802\n",
       "3  Medio superior y superior   60237   62512  122749\n",
       "4                      Total  152441  170091  322532"
      ]
     },
     "execution_count": 27,
     "metadata": {},
     "output_type": "execute_result"
    }
   ],
   "source": [
    "niveles_educacion = [\"Primaria incompleta\",\"Primaria completa\",\"Secundaria completa\",\"Medio superior y superior\",\"Total\"]\n",
    "by_sexo_educ = tabla_by_sex.groupby(['Sexo','niv_ins']).sum()\n",
    "sex_educ = by_sexo_educ.pivot_table(index='niv_ins',columns='Sexo', values='tamaño')\n",
    "sex_educ['Total'] = sex_educ.sum(axis=1)\n",
    "t_sum = pd.DataFrame({'Hombre':[sex_educ[\"Hombre\"].sum()],'Mujer':[sex_educ[\"Mujer\"].sum()], 'Total':[sex_educ[\"Total\"].sum()]})\n",
    "sex_educ = sex_educ.append(t_sum, ignore_index=True)\n",
    "sex_educ.insert(0, \"Educacion\", niveles_educacion)\n",
    "sex_educ"
   ]
  },
  {
   "cell_type": "code",
   "execution_count": 28,
   "id": "afba482f",
   "metadata": {},
   "outputs": [
    {
     "data": {
      "text/html": [
       "<div>\n",
       "<style scoped>\n",
       "    .dataframe tbody tr th:only-of-type {\n",
       "        vertical-align: middle;\n",
       "    }\n",
       "\n",
       "    .dataframe tbody tr th {\n",
       "        vertical-align: top;\n",
       "    }\n",
       "\n",
       "    .dataframe thead th {\n",
       "        text-align: right;\n",
       "    }\n",
       "</style>\n",
       "<table border=\"1\" class=\"dataframe\">\n",
       "  <thead>\n",
       "    <tr style=\"text-align: right;\">\n",
       "      <th></th>\n",
       "      <th>Educacion</th>\n",
       "      <th>Hombre</th>\n",
       "      <th>Mujer</th>\n",
       "      <th>Total</th>\n",
       "    </tr>\n",
       "  </thead>\n",
       "  <tbody>\n",
       "    <tr>\n",
       "      <th>0</th>\n",
       "      <td>Primaria incompleta</td>\n",
       "      <td>9.98%</td>\n",
       "      <td>10.92%</td>\n",
       "      <td>10.48%</td>\n",
       "    </tr>\n",
       "    <tr>\n",
       "      <th>1</th>\n",
       "      <td>Primaria completa</td>\n",
       "      <td>19.60%</td>\n",
       "      <td>19.58%</td>\n",
       "      <td>19.59%</td>\n",
       "    </tr>\n",
       "    <tr>\n",
       "      <th>2</th>\n",
       "      <td>Secundaria completa</td>\n",
       "      <td>30.90%</td>\n",
       "      <td>32.74%</td>\n",
       "      <td>31.87%</td>\n",
       "    </tr>\n",
       "    <tr>\n",
       "      <th>3</th>\n",
       "      <td>Medio superior y superior</td>\n",
       "      <td>39.51%</td>\n",
       "      <td>36.75%</td>\n",
       "      <td>38.06%</td>\n",
       "    </tr>\n",
       "    <tr>\n",
       "      <th>4</th>\n",
       "      <td>Total</td>\n",
       "      <td>100.00%</td>\n",
       "      <td>100.00%</td>\n",
       "      <td>100.00%</td>\n",
       "    </tr>\n",
       "  </tbody>\n",
       "</table>\n",
       "</div>"
      ],
      "text/plain": [
       "                   Educacion   Hombre    Mujer    Total\n",
       "0        Primaria incompleta    9.98%   10.92%   10.48%\n",
       "1          Primaria completa   19.60%   19.58%   19.59%\n",
       "2        Secundaria completa   30.90%   32.74%   31.87%\n",
       "3  Medio superior y superior   39.51%   36.75%   38.06%\n",
       "4                      Total  100.00%  100.00%  100.00%"
      ]
     },
     "execution_count": 28,
     "metadata": {},
     "output_type": "execute_result"
    }
   ],
   "source": [
    "sex_educ_percent = sex_educ.copy()\n",
    "sex_educ_percent['Hombre'] = (sex_educ_percent['Hombre'] / sex_educ_percent['Hombre'].max())*100\n",
    "sex_educ_percent['Mujer'] = (sex_educ_percent['Mujer'] / sex_educ_percent['Mujer'].max())*100\n",
    "sex_educ_percent['Total'] = (sex_educ_percent['Total'] / sex_educ_percent['Total'].max())*100\n",
    "sex_educ_percent[['Hombre','Mujer','Total']]=sex_educ_percent[['Hombre','Mujer','Total']].applymap('{:.2f}%'.format)\n",
    "sex_educ_percent"
   ]
  },
  {
   "cell_type": "markdown",
   "id": "cb44f337",
   "metadata": {},
   "source": [
    "**9.98%** del 100% de los **hombres mayores de 5 años** tienen un nivel de instrucción de **primaria incompleta**\n",
    "\n",
    "**39.51%** del 100% de los **hombres** tienen un nivel de instrucción **Medio superior y superior**"
   ]
  },
  {
   "cell_type": "code",
   "execution_count": 29,
   "id": "adbc9bba",
   "metadata": {},
   "outputs": [
    {
     "data": {
      "text/html": [
       "<div>\n",
       "<style scoped>\n",
       "    .dataframe tbody tr th:only-of-type {\n",
       "        vertical-align: middle;\n",
       "    }\n",
       "\n",
       "    .dataframe tbody tr th {\n",
       "        vertical-align: top;\n",
       "    }\n",
       "\n",
       "    .dataframe thead th {\n",
       "        text-align: right;\n",
       "    }\n",
       "</style>\n",
       "<table border=\"1\" class=\"dataframe\">\n",
       "  <thead>\n",
       "    <tr style=\"text-align: right;\">\n",
       "      <th></th>\n",
       "      <th>Educacion</th>\n",
       "      <th>Hombre</th>\n",
       "      <th>Mujer</th>\n",
       "      <th>Total</th>\n",
       "    </tr>\n",
       "  </thead>\n",
       "  <tbody>\n",
       "    <tr>\n",
       "      <th>0</th>\n",
       "      <td>Primaria incompleta</td>\n",
       "      <td>45.02%</td>\n",
       "      <td>54.98%</td>\n",
       "      <td>100.00%</td>\n",
       "    </tr>\n",
       "    <tr>\n",
       "      <th>1</th>\n",
       "      <td>Primaria completa</td>\n",
       "      <td>47.28%</td>\n",
       "      <td>52.72%</td>\n",
       "      <td>100.00%</td>\n",
       "    </tr>\n",
       "    <tr>\n",
       "      <th>2</th>\n",
       "      <td>Secundaria completa</td>\n",
       "      <td>45.83%</td>\n",
       "      <td>54.17%</td>\n",
       "      <td>100.00%</td>\n",
       "    </tr>\n",
       "    <tr>\n",
       "      <th>3</th>\n",
       "      <td>Medio superior y superior</td>\n",
       "      <td>49.07%</td>\n",
       "      <td>50.93%</td>\n",
       "      <td>100.00%</td>\n",
       "    </tr>\n",
       "    <tr>\n",
       "      <th>4</th>\n",
       "      <td>Total</td>\n",
       "      <td>47.26%</td>\n",
       "      <td>52.74%</td>\n",
       "      <td>100.00%</td>\n",
       "    </tr>\n",
       "  </tbody>\n",
       "</table>\n",
       "</div>"
      ],
      "text/plain": [
       "                   Educacion  Hombre   Mujer    Total\n",
       "0        Primaria incompleta  45.02%  54.98%  100.00%\n",
       "1          Primaria completa  47.28%  52.72%  100.00%\n",
       "2        Secundaria completa  45.83%  54.17%  100.00%\n",
       "3  Medio superior y superior  49.07%  50.93%  100.00%\n",
       "4                      Total  47.26%  52.74%  100.00%"
      ]
     },
     "execution_count": 29,
     "metadata": {},
     "output_type": "execute_result"
    }
   ],
   "source": [
    "percent_by_total = sex_educ.copy()\n",
    "percent_by_total['Hombre'] = (percent_by_total['Hombre'] / percent_by_total['Total'])*100\n",
    "percent_by_total['Mujer'] = (percent_by_total['Mujer'] / percent_by_total['Total'])*100\n",
    "percent_by_total['Total'] = (percent_by_total['Total'] / percent_by_total['Total'])*100\n",
    "percent_by_total[['Hombre','Mujer','Total']]=percent_by_total[['Hombre','Mujer','Total']].applymap('{:.2f}%'.format)\n",
    "percent_by_total"
   ]
  },
  {
   "cell_type": "markdown",
   "id": "6035ab2e",
   "metadata": {},
   "source": [
    "El **45.02%** del 100% de quienes tienen **primaria incompleta** son **hombres**\n",
    "\n",
    "El **50.93%** del 100% de quienes tienen educación **Media superior y superior** son **mujeres**"
   ]
  },
  {
   "cell_type": "code",
   "execution_count": 30,
   "id": "ca9ec0f6",
   "metadata": {},
   "outputs": [
    {
     "data": {
      "text/html": [
       "<div>\n",
       "<style scoped>\n",
       "    .dataframe tbody tr th:only-of-type {\n",
       "        vertical-align: middle;\n",
       "    }\n",
       "\n",
       "    .dataframe tbody tr th {\n",
       "        vertical-align: top;\n",
       "    }\n",
       "\n",
       "    .dataframe thead th {\n",
       "        text-align: right;\n",
       "    }\n",
       "</style>\n",
       "<table border=\"1\" class=\"dataframe\">\n",
       "  <thead>\n",
       "    <tr style=\"text-align: right;\">\n",
       "      <th></th>\n",
       "      <th>Educacion</th>\n",
       "      <th>Hombre</th>\n",
       "      <th>Mujer</th>\n",
       "      <th>Total</th>\n",
       "    </tr>\n",
       "  </thead>\n",
       "  <tbody>\n",
       "    <tr>\n",
       "      <th>0</th>\n",
       "      <td>Primaria incompleta</td>\n",
       "      <td>4.72%</td>\n",
       "      <td>5.76%</td>\n",
       "      <td>10.48%</td>\n",
       "    </tr>\n",
       "    <tr>\n",
       "      <th>1</th>\n",
       "      <td>Primaria completa</td>\n",
       "      <td>9.26%</td>\n",
       "      <td>10.33%</td>\n",
       "      <td>19.59%</td>\n",
       "    </tr>\n",
       "    <tr>\n",
       "      <th>2</th>\n",
       "      <td>Secundaria completa</td>\n",
       "      <td>14.61%</td>\n",
       "      <td>17.27%</td>\n",
       "      <td>31.87%</td>\n",
       "    </tr>\n",
       "    <tr>\n",
       "      <th>3</th>\n",
       "      <td>Medio superior y superior</td>\n",
       "      <td>18.68%</td>\n",
       "      <td>19.38%</td>\n",
       "      <td>38.06%</td>\n",
       "    </tr>\n",
       "    <tr>\n",
       "      <th>4</th>\n",
       "      <td>Total</td>\n",
       "      <td>47.26%</td>\n",
       "      <td>52.74%</td>\n",
       "      <td>100.00%</td>\n",
       "    </tr>\n",
       "  </tbody>\n",
       "</table>\n",
       "</div>"
      ],
      "text/plain": [
       "                   Educacion  Hombre   Mujer    Total\n",
       "0        Primaria incompleta   4.72%   5.76%   10.48%\n",
       "1          Primaria completa   9.26%  10.33%   19.59%\n",
       "2        Secundaria completa  14.61%  17.27%   31.87%\n",
       "3  Medio superior y superior  18.68%  19.38%   38.06%\n",
       "4                      Total  47.26%  52.74%  100.00%"
      ]
     },
     "execution_count": 30,
     "metadata": {},
     "output_type": "execute_result"
    }
   ],
   "source": [
    "fintabla_by_total = sex_educ.copy()\n",
    "fintabla_by_total['Hombre'] = (fintabla_by_total['Hombre'] / fintabla_by_total['Total'].max())*100\n",
    "fintabla_by_total['Mujer'] = (fintabla_by_total['Mujer'] / fintabla_by_total['Total'].max())*100\n",
    "fintabla_by_total['Total'] = (fintabla_by_total['Total'] / fintabla_by_total['Total'].max())*100\n",
    "fintabla_by_total[['Hombre','Mujer','Total']] = fintabla_by_total[['Hombre','Mujer','Total']].applymap('{:.2f}%'.format)\n",
    "fintabla_by_total"
   ]
  },
  {
   "cell_type": "markdown",
   "id": "96fde4c3",
   "metadata": {},
   "source": [
    "Podemos señalar que el **4.72%** de la población en edad escolar es **hombre** y tiene la **primaria incompleta**\n",
    "\n",
    "El **19.38%** de la población en edad escolar es **mujer** y tiene educación **Media superior y superior** "
   ]
  },
  {
   "cell_type": "code",
   "execution_count": 31,
   "id": "31b46ab7",
   "metadata": {},
   "outputs": [
    {
     "data": {
      "image/png": "[encoded data removed]",
      "text/plain": [
       "<Figure size 1000x500 with 2 Axes>"
      ]
     },
     "metadata": {},
     "output_type": "display_data"
    }
   ],
   "source": [
    "fig, ax = plt.subplots(1,2, figsize=(10, 5))\n",
    "\n",
    "ax[0].bar(fintabla_by_total['Educacion'],fintabla_by_total['Mujer'], color = \"blue\")\n",
    "ax[0].tick_params(axis='x', rotation=90)\n",
    "ax[0].set_title('Mujeres en edad escolar')\n",
    "\n",
    "ax[1].bar(fintabla_by_total['Educacion'],fintabla_by_total['Hombre'], color = \"orange\")\n",
    "ax[1].tick_params(axis='x', rotation=90)\n",
    "ax[1].set_title('Hombres en edad escolar')\n",
    "plt.show()"
   ]
  },
  {
   "cell_type": "code",
   "execution_count": null,
   "id": "7af56db7-991b-477c-abd5-caa89b269c9a",
   "metadata": {},
   "outputs": [],
   "source": []
  }
 ],
 "metadata": {
  "kernelspec": {
   "display_name": "Python 3 (ipykernel)",
   "language": "python",
   "name": "python3"
  },
  "language_info": {
   "codemirror_mode": {
    "name": "ipython",
    "version": 3
   },
   "file_extension": ".py",
   "mimetype": "text/x-python",
   "name": "python",
   "nbconvert_exporter": "python",
   "pygments_lexer": "ipython3",
   "version": "3.11.5"
  }
 },
 "nbformat": 4,
 "nbformat_minor": 5
}
